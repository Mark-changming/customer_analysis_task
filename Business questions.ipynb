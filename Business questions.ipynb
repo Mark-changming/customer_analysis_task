{
 "cells": [
  {
   "cell_type": "code",
   "execution_count": 1,
   "metadata": {},
   "outputs": [],
   "source": [
    "import numpy as np\n",
    "import pandas as pd \n",
    "import pandas_profiling"
   ]
  },
  {
   "cell_type": "code",
   "execution_count": 2,
   "metadata": {},
   "outputs": [],
   "source": [
    "df_aisles = pd.read_csv(\"./data/aisles/aisles.csv\")\n",
    "df_departments = pd.read_csv(\"./data/departments/departments.csv\")\n",
    "df_order_products = pd.read_csv(\"./data/order_products/order_products.csv\")\n",
    "df_orders = pd.read_csv(\"./data/orders/orders.csv\")\n",
    "df_products = pd.read_csv(\"./data/products/products.csv\")"
   ]
  },
  {
   "cell_type": "code",
   "execution_count": 17,
   "metadata": {},
   "outputs": [
    {
     "output_type": "execute_result",
     "data": {
      "text/plain": [
       "         order_id  user_id  order_number  order_dow  order_hour_of_day  \\\n",
       "0         2539329        1             1          2                  8   \n",
       "1         2398795        1             2          3                  7   \n",
       "2          473747        1             3          3                 12   \n",
       "3         2254736        1             4          4                  7   \n",
       "4          431534        1             5          4                 15   \n",
       "...           ...      ...           ...        ...                ...   \n",
       "3421078   2266710   206209            10          5                 18   \n",
       "3421079   1854736   206209            11          4                 10   \n",
       "3421080    626363   206209            12          1                 12   \n",
       "3421081   2977660   206209            13          1                 12   \n",
       "3421082    272231   206209            14          6                 14   \n",
       "\n",
       "         days_since_prior_order  \n",
       "0                           NaN  \n",
       "1                          15.0  \n",
       "2                          21.0  \n",
       "3                          29.0  \n",
       "4                          28.0  \n",
       "...                         ...  \n",
       "3421078                    29.0  \n",
       "3421079                    30.0  \n",
       "3421080                    18.0  \n",
       "3421081                     7.0  \n",
       "3421082                    30.0  \n",
       "\n",
       "[3421083 rows x 6 columns]"
      ],
      "text/html": "<div>\n<style scoped>\n    .dataframe tbody tr th:only-of-type {\n        vertical-align: middle;\n    }\n\n    .dataframe tbody tr th {\n        vertical-align: top;\n    }\n\n    .dataframe thead th {\n        text-align: right;\n    }\n</style>\n<table border=\"1\" class=\"dataframe\">\n  <thead>\n    <tr style=\"text-align: right;\">\n      <th></th>\n      <th>order_id</th>\n      <th>user_id</th>\n      <th>order_number</th>\n      <th>order_dow</th>\n      <th>order_hour_of_day</th>\n      <th>days_since_prior_order</th>\n    </tr>\n  </thead>\n  <tbody>\n    <tr>\n      <th>0</th>\n      <td>2539329</td>\n      <td>1</td>\n      <td>1</td>\n      <td>2</td>\n      <td>8</td>\n      <td>NaN</td>\n    </tr>\n    <tr>\n      <th>1</th>\n      <td>2398795</td>\n      <td>1</td>\n      <td>2</td>\n      <td>3</td>\n      <td>7</td>\n      <td>15.0</td>\n    </tr>\n    <tr>\n      <th>2</th>\n      <td>473747</td>\n      <td>1</td>\n      <td>3</td>\n      <td>3</td>\n      <td>12</td>\n      <td>21.0</td>\n    </tr>\n    <tr>\n      <th>3</th>\n      <td>2254736</td>\n      <td>1</td>\n      <td>4</td>\n      <td>4</td>\n      <td>7</td>\n      <td>29.0</td>\n    </tr>\n    <tr>\n      <th>4</th>\n      <td>431534</td>\n      <td>1</td>\n      <td>5</td>\n      <td>4</td>\n      <td>15</td>\n      <td>28.0</td>\n    </tr>\n    <tr>\n      <th>...</th>\n      <td>...</td>\n      <td>...</td>\n      <td>...</td>\n      <td>...</td>\n      <td>...</td>\n      <td>...</td>\n    </tr>\n    <tr>\n      <th>3421078</th>\n      <td>2266710</td>\n      <td>206209</td>\n      <td>10</td>\n      <td>5</td>\n      <td>18</td>\n      <td>29.0</td>\n    </tr>\n    <tr>\n      <th>3421079</th>\n      <td>1854736</td>\n      <td>206209</td>\n      <td>11</td>\n      <td>4</td>\n      <td>10</td>\n      <td>30.0</td>\n    </tr>\n    <tr>\n      <th>3421080</th>\n      <td>626363</td>\n      <td>206209</td>\n      <td>12</td>\n      <td>1</td>\n      <td>12</td>\n      <td>18.0</td>\n    </tr>\n    <tr>\n      <th>3421081</th>\n      <td>2977660</td>\n      <td>206209</td>\n      <td>13</td>\n      <td>1</td>\n      <td>12</td>\n      <td>7.0</td>\n    </tr>\n    <tr>\n      <th>3421082</th>\n      <td>272231</td>\n      <td>206209</td>\n      <td>14</td>\n      <td>6</td>\n      <td>14</td>\n      <td>30.0</td>\n    </tr>\n  </tbody>\n</table>\n<p>3421083 rows × 6 columns</p>\n</div>"
     },
     "metadata": {},
     "execution_count": 17
    }
   ],
   "source": [
    "df_orders"
   ]
  },
  {
   "cell_type": "code",
   "execution_count": 18,
   "metadata": {},
   "outputs": [
    {
     "output_type": "execute_result",
     "data": {
      "text/plain": [
       "          order_id  product_id  add_to_cart_order\n",
       "0                2       33120                  1\n",
       "1                2       28985                  2\n",
       "2                2        9327                  3\n",
       "3                2       45918                  4\n",
       "4                2       30035                  5\n",
       "...            ...         ...                ...\n",
       "33819101   3421063       14233                  3\n",
       "33819102   3421063       35548                  4\n",
       "33819103   3421070       35951                  1\n",
       "33819104   3421070       16953                  2\n",
       "33819105   3421070        4724                  3\n",
       "\n",
       "[33819106 rows x 3 columns]"
      ],
      "text/html": "<div>\n<style scoped>\n    .dataframe tbody tr th:only-of-type {\n        vertical-align: middle;\n    }\n\n    .dataframe tbody tr th {\n        vertical-align: top;\n    }\n\n    .dataframe thead th {\n        text-align: right;\n    }\n</style>\n<table border=\"1\" class=\"dataframe\">\n  <thead>\n    <tr style=\"text-align: right;\">\n      <th></th>\n      <th>order_id</th>\n      <th>product_id</th>\n      <th>add_to_cart_order</th>\n    </tr>\n  </thead>\n  <tbody>\n    <tr>\n      <th>0</th>\n      <td>2</td>\n      <td>33120</td>\n      <td>1</td>\n    </tr>\n    <tr>\n      <th>1</th>\n      <td>2</td>\n      <td>28985</td>\n      <td>2</td>\n    </tr>\n    <tr>\n      <th>2</th>\n      <td>2</td>\n      <td>9327</td>\n      <td>3</td>\n    </tr>\n    <tr>\n      <th>3</th>\n      <td>2</td>\n      <td>45918</td>\n      <td>4</td>\n    </tr>\n    <tr>\n      <th>4</th>\n      <td>2</td>\n      <td>30035</td>\n      <td>5</td>\n    </tr>\n    <tr>\n      <th>...</th>\n      <td>...</td>\n      <td>...</td>\n      <td>...</td>\n    </tr>\n    <tr>\n      <th>33819101</th>\n      <td>3421063</td>\n      <td>14233</td>\n      <td>3</td>\n    </tr>\n    <tr>\n      <th>33819102</th>\n      <td>3421063</td>\n      <td>35548</td>\n      <td>4</td>\n    </tr>\n    <tr>\n      <th>33819103</th>\n      <td>3421070</td>\n      <td>35951</td>\n      <td>1</td>\n    </tr>\n    <tr>\n      <th>33819104</th>\n      <td>3421070</td>\n      <td>16953</td>\n      <td>2</td>\n    </tr>\n    <tr>\n      <th>33819105</th>\n      <td>3421070</td>\n      <td>4724</td>\n      <td>3</td>\n    </tr>\n  </tbody>\n</table>\n<p>33819106 rows × 3 columns</p>\n</div>"
     },
     "metadata": {},
     "execution_count": 18
    }
   ],
   "source": [
    "df_order_products"
   ]
  },
  {
   "cell_type": "code",
   "execution_count": 3,
   "metadata": {},
   "outputs": [
    {
     "output_type": "execute_result",
     "data": {
      "text/plain": [
       "          order_id  user_id  order_number  order_dow  order_hour_of_day  \\\n",
       "0          2539329        1             1          2                  8   \n",
       "1          2398795        1             2          3                  7   \n",
       "2           473747        1             3          3                 12   \n",
       "3          2254736        1             4          4                  7   \n",
       "4           431534        1             5          4                 15   \n",
       "...            ...      ...           ...        ...                ...   \n",
       "33819101   2939884   130327             3          1                 13   \n",
       "33819102   3267360   150683             1          5                 16   \n",
       "33819103    414077   159238             9          6                 12   \n",
       "33819104    813243   171675            13          2                  6   \n",
       "33819105    909758   176580             4          6                 15   \n",
       "\n",
       "          days_since_prior_order  product_id  add_to_cart_order  \\\n",
       "0                            NaN         196                  1   \n",
       "1                           15.0         196                  1   \n",
       "2                           21.0         196                  1   \n",
       "3                           29.0         196                  1   \n",
       "4                           28.0         196                  1   \n",
       "...                          ...         ...                ...   \n",
       "33819101                     0.0       27414                  5   \n",
       "33819102                     NaN       27414                 13   \n",
       "33819103                     8.0       27414                  1   \n",
       "33819104                    13.0       27414                 34   \n",
       "33819105                     5.0       27414                 15   \n",
       "\n",
       "                 product_name  aisle_id  department_id  \\\n",
       "0                        Soda        77              7   \n",
       "1                        Soda        77              7   \n",
       "2                        Soda        77              7   \n",
       "3                        Soda        77              7   \n",
       "4                        Soda        77              7   \n",
       "...                       ...       ...            ...   \n",
       "33819101  Organic Emmer Farro        68             10   \n",
       "33819102  Organic Emmer Farro        68             10   \n",
       "33819103  Organic Emmer Farro        68             10   \n",
       "33819104  Organic Emmer Farro        68             10   \n",
       "33819105  Organic Emmer Farro        68             10   \n",
       "\n",
       "                                 aisle department  \n",
       "0                          soft drinks  beverages  \n",
       "1                          soft drinks  beverages  \n",
       "2                          soft drinks  beverages  \n",
       "3                          soft drinks  beverages  \n",
       "4                          soft drinks  beverages  \n",
       "...                                ...        ...  \n",
       "33819101  bulk grains rice dried goods       bulk  \n",
       "33819102  bulk grains rice dried goods       bulk  \n",
       "33819103  bulk grains rice dried goods       bulk  \n",
       "33819104  bulk grains rice dried goods       bulk  \n",
       "33819105  bulk grains rice dried goods       bulk  \n",
       "\n",
       "[33819106 rows x 13 columns]"
      ],
      "text/html": "<div>\n<style scoped>\n    .dataframe tbody tr th:only-of-type {\n        vertical-align: middle;\n    }\n\n    .dataframe tbody tr th {\n        vertical-align: top;\n    }\n\n    .dataframe thead th {\n        text-align: right;\n    }\n</style>\n<table border=\"1\" class=\"dataframe\">\n  <thead>\n    <tr style=\"text-align: right;\">\n      <th></th>\n      <th>order_id</th>\n      <th>user_id</th>\n      <th>order_number</th>\n      <th>order_dow</th>\n      <th>order_hour_of_day</th>\n      <th>days_since_prior_order</th>\n      <th>product_id</th>\n      <th>add_to_cart_order</th>\n      <th>product_name</th>\n      <th>aisle_id</th>\n      <th>department_id</th>\n      <th>aisle</th>\n      <th>department</th>\n    </tr>\n  </thead>\n  <tbody>\n    <tr>\n      <th>0</th>\n      <td>2539329</td>\n      <td>1</td>\n      <td>1</td>\n      <td>2</td>\n      <td>8</td>\n      <td>NaN</td>\n      <td>196</td>\n      <td>1</td>\n      <td>Soda</td>\n      <td>77</td>\n      <td>7</td>\n      <td>soft drinks</td>\n      <td>beverages</td>\n    </tr>\n    <tr>\n      <th>1</th>\n      <td>2398795</td>\n      <td>1</td>\n      <td>2</td>\n      <td>3</td>\n      <td>7</td>\n      <td>15.0</td>\n      <td>196</td>\n      <td>1</td>\n      <td>Soda</td>\n      <td>77</td>\n      <td>7</td>\n      <td>soft drinks</td>\n      <td>beverages</td>\n    </tr>\n    <tr>\n      <th>2</th>\n      <td>473747</td>\n      <td>1</td>\n      <td>3</td>\n      <td>3</td>\n      <td>12</td>\n      <td>21.0</td>\n      <td>196</td>\n      <td>1</td>\n      <td>Soda</td>\n      <td>77</td>\n      <td>7</td>\n      <td>soft drinks</td>\n      <td>beverages</td>\n    </tr>\n    <tr>\n      <th>3</th>\n      <td>2254736</td>\n      <td>1</td>\n      <td>4</td>\n      <td>4</td>\n      <td>7</td>\n      <td>29.0</td>\n      <td>196</td>\n      <td>1</td>\n      <td>Soda</td>\n      <td>77</td>\n      <td>7</td>\n      <td>soft drinks</td>\n      <td>beverages</td>\n    </tr>\n    <tr>\n      <th>4</th>\n      <td>431534</td>\n      <td>1</td>\n      <td>5</td>\n      <td>4</td>\n      <td>15</td>\n      <td>28.0</td>\n      <td>196</td>\n      <td>1</td>\n      <td>Soda</td>\n      <td>77</td>\n      <td>7</td>\n      <td>soft drinks</td>\n      <td>beverages</td>\n    </tr>\n    <tr>\n      <th>...</th>\n      <td>...</td>\n      <td>...</td>\n      <td>...</td>\n      <td>...</td>\n      <td>...</td>\n      <td>...</td>\n      <td>...</td>\n      <td>...</td>\n      <td>...</td>\n      <td>...</td>\n      <td>...</td>\n      <td>...</td>\n      <td>...</td>\n    </tr>\n    <tr>\n      <th>33819101</th>\n      <td>2939884</td>\n      <td>130327</td>\n      <td>3</td>\n      <td>1</td>\n      <td>13</td>\n      <td>0.0</td>\n      <td>27414</td>\n      <td>5</td>\n      <td>Organic Emmer Farro</td>\n      <td>68</td>\n      <td>10</td>\n      <td>bulk grains rice dried goods</td>\n      <td>bulk</td>\n    </tr>\n    <tr>\n      <th>33819102</th>\n      <td>3267360</td>\n      <td>150683</td>\n      <td>1</td>\n      <td>5</td>\n      <td>16</td>\n      <td>NaN</td>\n      <td>27414</td>\n      <td>13</td>\n      <td>Organic Emmer Farro</td>\n      <td>68</td>\n      <td>10</td>\n      <td>bulk grains rice dried goods</td>\n      <td>bulk</td>\n    </tr>\n    <tr>\n      <th>33819103</th>\n      <td>414077</td>\n      <td>159238</td>\n      <td>9</td>\n      <td>6</td>\n      <td>12</td>\n      <td>8.0</td>\n      <td>27414</td>\n      <td>1</td>\n      <td>Organic Emmer Farro</td>\n      <td>68</td>\n      <td>10</td>\n      <td>bulk grains rice dried goods</td>\n      <td>bulk</td>\n    </tr>\n    <tr>\n      <th>33819104</th>\n      <td>813243</td>\n      <td>171675</td>\n      <td>13</td>\n      <td>2</td>\n      <td>6</td>\n      <td>13.0</td>\n      <td>27414</td>\n      <td>34</td>\n      <td>Organic Emmer Farro</td>\n      <td>68</td>\n      <td>10</td>\n      <td>bulk grains rice dried goods</td>\n      <td>bulk</td>\n    </tr>\n    <tr>\n      <th>33819105</th>\n      <td>909758</td>\n      <td>176580</td>\n      <td>4</td>\n      <td>6</td>\n      <td>15</td>\n      <td>5.0</td>\n      <td>27414</td>\n      <td>15</td>\n      <td>Organic Emmer Farro</td>\n      <td>68</td>\n      <td>10</td>\n      <td>bulk grains rice dried goods</td>\n      <td>bulk</td>\n    </tr>\n  </tbody>\n</table>\n<p>33819106 rows × 13 columns</p>\n</div>"
     },
     "metadata": {},
     "execution_count": 3
    }
   ],
   "source": [
    "df1 = pd.merge(df_orders, df_order_products, on=\"order_id\", how=\"inner\")\n",
    "df2 = pd.merge(df1, df_products, on=\"product_id\")\n",
    "df3 = pd.merge(df2, df_aisles, on=\"aisle_id\")\n",
    "df_all = pd.merge(df3, df_departments, on=\"department_id\")\n",
    "df_all"
   ]
  },
  {
   "cell_type": "code",
   "execution_count": 23,
   "metadata": {},
   "outputs": [
    {
     "output_type": "execute_result",
     "data": {
      "text/plain": [
       "           order_id       user_id  order_number     order_dow  \\\n",
       "count  3.381911e+07  3.381911e+07  3.381911e+07  3.381911e+07   \n",
       "mean   1.710566e+06  1.029444e+05  1.713998e+01  2.737285e+00   \n",
       "std    9.874008e+05  5.946733e+04  1.749829e+01  2.093296e+00   \n",
       "min    1.000000e+00  1.000000e+00  1.000000e+00  0.000000e+00   \n",
       "25%    8.554130e+05  5.143500e+04  5.000000e+00  1.000000e+00   \n",
       "50%    1.710660e+06  1.026260e+05  1.100000e+01  3.000000e+00   \n",
       "75%    2.565587e+06  1.544120e+05  2.400000e+01  5.000000e+00   \n",
       "max    3.421083e+06  2.062090e+05  1.000000e+02  6.000000e+00   \n",
       "\n",
       "       order_hour_of_day  days_since_prior_order    product_id  \\\n",
       "count       3.381911e+07            3.174104e+07  3.381911e+07   \n",
       "mean        1.343123e+01            1.136415e+01  2.557551e+04   \n",
       "std         4.246149e+00            8.940500e+00  1.409770e+04   \n",
       "min         0.000000e+00            0.000000e+00  1.000000e+00   \n",
       "25%         1.000000e+01            5.000000e+00  1.351900e+04   \n",
       "50%         1.300000e+01            8.000000e+00  2.525600e+04   \n",
       "75%         1.600000e+01            1.500000e+01  3.793500e+04   \n",
       "max         2.300000e+01            3.000000e+01  4.968800e+04   \n",
       "\n",
       "       add_to_cart_order      aisle_id  department_id  \n",
       "count       3.381911e+07  3.381911e+07   3.381911e+07  \n",
       "mean        8.367738e+00  7.121799e+01   9.918544e+00  \n",
       "std         7.139540e+00  3.819898e+01   6.281655e+00  \n",
       "min         1.000000e+00  1.000000e+00   1.000000e+00  \n",
       "25%         3.000000e+00  3.100000e+01   4.000000e+00  \n",
       "50%         6.000000e+00  8.300000e+01   9.000000e+00  \n",
       "75%         1.100000e+01  1.070000e+02   1.600000e+01  \n",
       "max         1.450000e+02  1.340000e+02   2.100000e+01  "
      ],
      "text/html": "<div>\n<style scoped>\n    .dataframe tbody tr th:only-of-type {\n        vertical-align: middle;\n    }\n\n    .dataframe tbody tr th {\n        vertical-align: top;\n    }\n\n    .dataframe thead th {\n        text-align: right;\n    }\n</style>\n<table border=\"1\" class=\"dataframe\">\n  <thead>\n    <tr style=\"text-align: right;\">\n      <th></th>\n      <th>order_id</th>\n      <th>user_id</th>\n      <th>order_number</th>\n      <th>order_dow</th>\n      <th>order_hour_of_day</th>\n      <th>days_since_prior_order</th>\n      <th>product_id</th>\n      <th>add_to_cart_order</th>\n      <th>aisle_id</th>\n      <th>department_id</th>\n    </tr>\n  </thead>\n  <tbody>\n    <tr>\n      <th>count</th>\n      <td>3.381911e+07</td>\n      <td>3.381911e+07</td>\n      <td>3.381911e+07</td>\n      <td>3.381911e+07</td>\n      <td>3.381911e+07</td>\n      <td>3.174104e+07</td>\n      <td>3.381911e+07</td>\n      <td>3.381911e+07</td>\n      <td>3.381911e+07</td>\n      <td>3.381911e+07</td>\n    </tr>\n    <tr>\n      <th>mean</th>\n      <td>1.710566e+06</td>\n      <td>1.029444e+05</td>\n      <td>1.713998e+01</td>\n      <td>2.737285e+00</td>\n      <td>1.343123e+01</td>\n      <td>1.136415e+01</td>\n      <td>2.557551e+04</td>\n      <td>8.367738e+00</td>\n      <td>7.121799e+01</td>\n      <td>9.918544e+00</td>\n    </tr>\n    <tr>\n      <th>std</th>\n      <td>9.874008e+05</td>\n      <td>5.946733e+04</td>\n      <td>1.749829e+01</td>\n      <td>2.093296e+00</td>\n      <td>4.246149e+00</td>\n      <td>8.940500e+00</td>\n      <td>1.409770e+04</td>\n      <td>7.139540e+00</td>\n      <td>3.819898e+01</td>\n      <td>6.281655e+00</td>\n    </tr>\n    <tr>\n      <th>min</th>\n      <td>1.000000e+00</td>\n      <td>1.000000e+00</td>\n      <td>1.000000e+00</td>\n      <td>0.000000e+00</td>\n      <td>0.000000e+00</td>\n      <td>0.000000e+00</td>\n      <td>1.000000e+00</td>\n      <td>1.000000e+00</td>\n      <td>1.000000e+00</td>\n      <td>1.000000e+00</td>\n    </tr>\n    <tr>\n      <th>25%</th>\n      <td>8.554130e+05</td>\n      <td>5.143500e+04</td>\n      <td>5.000000e+00</td>\n      <td>1.000000e+00</td>\n      <td>1.000000e+01</td>\n      <td>5.000000e+00</td>\n      <td>1.351900e+04</td>\n      <td>3.000000e+00</td>\n      <td>3.100000e+01</td>\n      <td>4.000000e+00</td>\n    </tr>\n    <tr>\n      <th>50%</th>\n      <td>1.710660e+06</td>\n      <td>1.026260e+05</td>\n      <td>1.100000e+01</td>\n      <td>3.000000e+00</td>\n      <td>1.300000e+01</td>\n      <td>8.000000e+00</td>\n      <td>2.525600e+04</td>\n      <td>6.000000e+00</td>\n      <td>8.300000e+01</td>\n      <td>9.000000e+00</td>\n    </tr>\n    <tr>\n      <th>75%</th>\n      <td>2.565587e+06</td>\n      <td>1.544120e+05</td>\n      <td>2.400000e+01</td>\n      <td>5.000000e+00</td>\n      <td>1.600000e+01</td>\n      <td>1.500000e+01</td>\n      <td>3.793500e+04</td>\n      <td>1.100000e+01</td>\n      <td>1.070000e+02</td>\n      <td>1.600000e+01</td>\n    </tr>\n    <tr>\n      <th>max</th>\n      <td>3.421083e+06</td>\n      <td>2.062090e+05</td>\n      <td>1.000000e+02</td>\n      <td>6.000000e+00</td>\n      <td>2.300000e+01</td>\n      <td>3.000000e+01</td>\n      <td>4.968800e+04</td>\n      <td>1.450000e+02</td>\n      <td>1.340000e+02</td>\n      <td>2.100000e+01</td>\n    </tr>\n  </tbody>\n</table>\n</div>"
     },
     "metadata": {},
     "execution_count": 23
    }
   ],
   "source": [
    "df_all.describe()"
   ]
  },
  {
   "cell_type": "code",
   "execution_count": 24,
   "metadata": {},
   "outputs": [
    {
     "output_type": "stream",
     "name": "stdout",
     "text": [
      "<class 'pandas.core.frame.DataFrame'>\nInt64Index: 33819106 entries, 0 to 33819105\nData columns (total 13 columns):\n #   Column                  Dtype  \n---  ------                  -----  \n 0   order_id                int64  \n 1   user_id                 int64  \n 2   order_number            int64  \n 3   order_dow               int64  \n 4   order_hour_of_day       int64  \n 5   days_since_prior_order  float64\n 6   product_id              int64  \n 7   add_to_cart_order       int64  \n 8   product_name            object \n 9   aisle_id                int64  \n 10  department_id           int64  \n 11  aisle                   object \n 12  department              object \ndtypes: float64(1), int64(9), object(3)\nmemory usage: 3.5+ GB\n"
     ]
    }
   ],
   "source": [
    "df_all.info()"
   ]
  },
  {
   "cell_type": "code",
   "execution_count": 18,
   "metadata": {},
   "outputs": [
    {
     "output_type": "stream",
     "name": "stdout",
     "text": [
      "There are 49685 products that people usually order\n"
     ]
    }
   ],
   "source": [
    "print(\"There are \" + str(df_all.product_name.nunique()) + \" products that people usually order\")"
   ]
  },
  {
   "cell_type": "code",
   "execution_count": 19,
   "metadata": {},
   "outputs": [
    {
     "output_type": "stream",
     "name": "stdout",
     "text": [
      "Products banana are orderd the most\n"
     ]
    }
   ],
   "source": [
    "df_all['product_name'].mode()\n",
    "print(\"Products banana are orderd the most\")"
   ]
  },
  {
   "cell_type": "code",
   "execution_count": 34,
   "metadata": {},
   "outputs": [
    {
     "output_type": "stream",
     "name": "stdout",
     "text": [
      "Soda is the product that is most likely to be added first in cart\n"
     ]
    }
   ],
   "source": [
    "print(df_all.product_name[df_all['add_to_cart_order'].idxmin()] + \" is the product that is most likely to be added first in cart\")"
   ]
  },
  {
   "cell_type": "code",
   "execution_count": 37,
   "metadata": {},
   "outputs": [
    {
     "output_type": "stream",
     "name": "stdout",
     "text": [
      "0    10\ndtype: int64\nPeople usually order products at 10 o'clock.\n"
     ]
    }
   ],
   "source": [
    "print(df_all[\"order_hour_of_day\"].mode())\n",
    "print(\"People usually order products at 10 o'clock.\")"
   ]
  }
 ],
 "metadata": {
  "kernelspec": {
   "display_name": "Python 3",
   "language": "python",
   "name": "python3"
  },
  "language_info": {
   "codemirror_mode": {
    "name": "ipython",
    "version": 3
   },
   "file_extension": ".py",
   "mimetype": "text/x-python",
   "name": "python",
   "nbconvert_exporter": "python",
   "pygments_lexer": "ipython3",
   "version": "3.7.6-final"
  }
 },
 "nbformat": 4,
 "nbformat_minor": 1
}